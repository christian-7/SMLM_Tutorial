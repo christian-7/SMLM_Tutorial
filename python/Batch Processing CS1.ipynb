{
 "cells": [
  {
   "cell_type": "code",
   "execution_count": 1,
   "metadata": {
    "collapsed": false
   },
   "outputs": [
    {
     "name": "stdout",
     "output_type": "stream",
     "text": [
      "Using matplotlib backend: Qt4Agg\n",
      "Populating the interactive namespace from numpy and matplotlib\n"
     ]
    },
    {
     "data": {
      "text/plain": [
       "<module 'DataSTORM.processors' from 'c:\\\\users\\\\laboleb\\\\src\\\\datastorm\\\\DataSTORM\\\\processors.py'>"
      ]
     },
     "execution_count": 1,
     "metadata": {},
     "output_type": "execute_result"
    }
   ],
   "source": [
    "%pylab\n",
    "import DataSTORM.processors as proc\n",
    "import DataSTORM.batch      as batch\n",
    "import pandas               as pd\n",
    "from pathlib import Path\n",
    "\n",
    "import importlib\n",
    "importlib.reload(proc)"
   ]
  },
  {
   "cell_type": "code",
   "execution_count": null,
   "metadata": {
    "collapsed": true
   },
   "outputs": [],
   "source": [
    "cleanup = proc.CleanUp()\n",
    "# merger = proc.Merge(tOff            = 1,  # Number of frames that a molecule can be missing and still be part of a track\n",
    "                    #mergeRadius     = 40) # Maximum distance between successive molecules\n",
    "\n",
    "#mfcDF = merger(fcDF)\n",
    "\n",
    "#filter1 = proc.Filter('uncertainty [nm]', '<', 30)\n",
    "#filter2 = proc.Filter('loglikelihood',    '<', 400)"
   ]
  },
  {
   "cell_type": "code",
   "execution_count": null,
   "metadata": {
    "collapsed": false
   },
   "outputs": [],
   "source": [
    "pipeline = [cleanup]"
   ]
  },
  {
   "cell_type": "code",
   "execution_count": null,
   "metadata": {
    "collapsed": false
   },
   "outputs": [],
   "source": [
    "inputData = Path('X:/SHARED/HT-project/bacteria/2016-04-06_Bacteria_2C/losResultsA750/Tile') # All folders in this folder will be searched"
   ]
  },
  {
   "cell_type": "code",
   "execution_count": null,
   "metadata": {
    "collapsed": false
   },
   "outputs": [],
   "source": [
    " # We will use the default output directory\n",
    "bp = batch.BatchProcessor(inputData,\n",
    "                          pipeline,\n",
    "                          useSameFolder = True,\n",
    "                          searchString = 'locResults.dat') # Look for files ending in 'locResults.dat'"
   ]
  },
  {
   "cell_type": "code",
   "execution_count": null,
   "metadata": {
    "collapsed": false
   },
   "outputs": [],
   "source": [
    "bp.go()"
   ]
  },
  {
   "cell_type": "code",
   "execution_count": null,
   "metadata": {
    "collapsed": true
   },
   "outputs": [],
   "source": []
  }
 ],
 "metadata": {
  "kernelspec": {
   "display_name": "Python 3",
   "language": "python",
   "name": "python3"
  },
  "language_info": {
   "codemirror_mode": {
    "name": "ipython",
    "version": 3
   },
   "file_extension": ".py",
   "mimetype": "text/x-python",
   "name": "python",
   "nbconvert_exporter": "python",
   "pygments_lexer": "ipython3",
   "version": "3.5.1"
  }
 },
 "nbformat": 4,
 "nbformat_minor": 0
}
