{
 "cells": [
  {
   "cell_type": "code",
   "execution_count": 1,
   "metadata": {
    "scrolled": true
   },
   "outputs": [
    {
     "name": "stdout",
     "output_type": "stream",
     "text": [
      "Populating the interactive namespace from numpy and matplotlib\n"
     ]
    },
    {
     "name": "stderr",
     "output_type": "stream",
     "text": [
      "Vendor:  Continuum Analytics, Inc.\n",
      "Package: mkl\n",
      "Message: trial mode expires in 2 days\n",
      "\n",
      "    After the trial mode is expired, mkl will stop working.  If you want to\n",
      "    use mkl thereafter, please purchase a license at http://continuum.io\n",
      "    \n",
      "Vendor:  Continuum Analytics, Inc.\n",
      "Package: mkl\n",
      "Message: trial mode expires in 2 days\n",
      "\n",
      "    After the trial mode is expired, mkl will stop working.  If you want to\n",
      "    use mkl thereafter, please purchase a license at http://continuum.io\n",
      "    \n"
     ]
    }
   ],
   "source": [
    "%pylab inline"
   ]
  },
  {
   "cell_type": "code",
   "execution_count": 2,
   "metadata": {},
   "outputs": [],
   "source": [
    "import sys\n",
    "import STORM"
   ]
  },
  {
   "cell_type": "code",
   "execution_count": 3,
   "metadata": {
    "collapsed": true
   },
   "outputs": [],
   "source": [
    "movie_size = 256\n",
    "pixel_size = 0.156\n",
    "bin_size = 0.02\n",
    "r_max = 10\n",
    "nonspec_clean = 0\n",
    "nonspec = 0.25"
   ]
  },
  {
   "cell_type": "markdown",
   "metadata": {},
   "source": [
    "## GRASP65-TGN46"
   ]
  },
  {
   "cell_type": "code",
   "execution_count": 4,
   "metadata": {},
   "outputs": [],
   "source": [
    "mlist_grasp_tgn_clean = STORM.load_mlist('GRASP65-TGN46//movie_0002_list_xtalk_clean(300nm,110).txt')"
   ]
  },
  {
   "cell_type": "code",
   "execution_count": 5,
   "metadata": {
    "collapsed": true
   },
   "outputs": [],
   "source": [
    "mlist_grasp_tgn = STORM.load_mlist('GRASP65-TGN46//movie_0002_list.txt')"
   ]
  },
  {
   "cell_type": "code",
   "execution_count": 6,
   "metadata": {
    "scrolled": true
   },
   "outputs": [
    {
     "name": "stdout",
     "output_type": "stream",
     "text": [
      "Correlating 38775x574597 molecules.\n",
      "Calculating distance histogram...\n",
      "Calculating image B to non-specific distance histogram...\n"
     ]
    }
   ],
   "source": [
    "try:\n",
    "    with load('PDD_GRASP65-TGN46.npz') as data:\n",
    "        r_grasp_tgn = data['r']\n",
    "        pdd_grasp_tgn = data['pdd']\n",
    "except:\n",
    "    r_grasp_tgn, pdd_grasp_tgn = STORM.pair_distance_distribution(mlist_grasp_tgn_clean, 1, mlist_grasp_tgn, 2, movie_size,\n",
    "                                                                  pixel_size, bin_size, r_max, nonspec_clean, nonspec,\n",
    "                                                                  n_threads=14, verbose=True)\n",
    "    savez('PDD_GRASP65-TGN46', r=r_grasp_tgn, pdd=pdd_grasp_tgn)"
   ]
  },
  {
   "cell_type": "code",
   "execution_count": 7,
   "metadata": {
    "scrolled": false
   },
   "outputs": [
    {
     "name": "stdout",
     "output_type": "stream",
     "text": [
      "Generating pixel-based super-resolution images...\n",
      "Calculating point-distribution for distance 500/501.\n"
     ]
    }
   ],
   "source": [
    "try:\n",
    "    with load('PSDD_GRASP65-TGN46.npz') as data:\n",
    "        r_grasp_tgn = data['r']\n",
    "        psdd_grasp_tgn = data['psdd']\n",
    "        pint_set_area = data['area']\n",
    "except:\n",
    "    r_grasp_tgn, psdd_grasp_tgn, area = STORM.point_set_distance_distribution(mlist_grasp_tgn_clean, 1, mlist_grasp_tgn, 2,\n",
    "                                                                              movie_size, pixel_size, bin_size, r_max, nonspec,\n",
    "                                                                              True)\n",
    "    savez('PSDD_GRASP65-TGN46', r=r_grasp_tgn, psdd=psdd_grasp_tgn, area=area)"
   ]
  },
  {
   "cell_type": "code",
   "execution_count": 8,
   "metadata": {
    "scrolled": true
   },
   "outputs": [
    {
     "data": {
      "text/plain": [
       "<matplotlib.legend.Legend at 0x8ec01780>"
      ]
     },
     "execution_count": 8,
     "metadata": {},
     "output_type": "execute_result"
    },
    {
     "data": {
      "image/png": "[encoded data removed]",
      "text/plain": [
       "<matplotlib.figure.Figure at 0x8ebf5fd0>"
      ]
     },
     "metadata": {},
     "output_type": "display_data"
    }
   ],
   "source": [
    "figure(figsize=(6,3*6/4))\n",
    "plot(r_grasp_tgn, pdd_grasp_tgn, label='point-point')\n",
    "plot(r_grasp_tgn, psdd_grasp_tgn, label='point-set')\n",
    "ylim((0,2.5))\n",
    "legend(loc='best')"
   ]
  },
  {
   "cell_type": "code",
   "execution_count": 9,
   "metadata": {},
   "outputs": [
    {
     "data": {
      "text/plain": [
       "<matplotlib.legend.Legend at 0x8de9cdd8>"
      ]
     },
     "execution_count": 9,
     "metadata": {},
     "output_type": "execute_result"
    },
    {
     "data": {
      "image/png": "[encoded data removed]",
      "text/plain": [
       "<matplotlib.figure.Figure at 0x19f75a90>"
      ]
     },
     "metadata": {},
     "output_type": "display_data"
    }
   ],
   "source": [
    "figure()\n",
    "plot(r_grasp_tgn, pdd_grasp_tgn, label='point-point')\n",
    "plot(r_grasp_tgn, psdd_grasp_tgn, label='point-set')\n",
    "xlim((0,2))\n",
    "ylim((0,3))\n",
    "legend(loc='best')"
   ]
  },
  {
   "cell_type": "markdown",
   "metadata": {},
   "source": [
    "## GRASP65-GM130"
   ]
  },
  {
   "cell_type": "code",
   "execution_count": 10,
   "metadata": {},
   "outputs": [],
   "source": [
    "mlist_grasp_gm_clean = STORM.load_mlist('GRASP65-GM130//movie_0002_list_xtalk_clean(300nm,30).txt')"
   ]
  },
  {
   "cell_type": "code",
   "execution_count": 11,
   "metadata": {
    "collapsed": true
   },
   "outputs": [],
   "source": [
    "mlist_grasp_gm = STORM.load_mlist('GRASP65-GM130//movie_0002_list.txt')"
   ]
  },
  {
   "cell_type": "code",
   "execution_count": 12,
   "metadata": {
    "scrolled": true
   },
   "outputs": [
    {
     "name": "stdout",
     "output_type": "stream",
     "text": [
      "Correlating 10544x396408 molecules.\n",
      "Calculating distance histogram...\n",
      "Calculating image B to non-specific distance histogram...\n"
     ]
    }
   ],
   "source": [
    "try:\n",
    "    with load('PDD_GRASP65-GM130.npz') as data:\n",
    "        r_grasp_gm = data['r']\n",
    "        pdd_grasp_gm = data['pdd']\n",
    "except:\n",
    "    r_grasp_gm, pdd_grasp_gm = STORM.pair_distance_distribution(mlist_grasp_gm_clean, 1, mlist_grasp_gm, 2, movie_size,\n",
    "                                                                pixel_size, bin_size, r_max, nonspec_clean, nonspec,\n",
    "                                                                n_threads=14, verbose=True)\n",
    "    savez('PDD_GRASP65-GM130', r=r_grasp_gm, pdd=pdd_grasp_gm)"
   ]
  },
  {
   "cell_type": "code",
   "execution_count": 13,
   "metadata": {
    "scrolled": false
   },
   "outputs": [
    {
     "name": "stdout",
     "output_type": "stream",
     "text": [
      "Generating pixel-based super-resolution images...\n",
      "Calculating point-distribution for distance 500/501.\n"
     ]
    }
   ],
   "source": [
    "try:\n",
    "    with load('PSDD_GRASP65-GM130.npz') as data:\n",
    "        r_grasp_gm = data['r']\n",
    "        psdd_grasp_gm = data['psdd']\n",
    "        pint_set_area = data['area']\n",
    "except:\n",
    "    r_grasp_gm, psdd_grasp_gm, area = STORM.point_set_distance_distribution(mlist_grasp_gm_clean, 1, mlist_grasp_gm, 2,\n",
    "                                                                            movie_size, pixel_size, bin_size, r_max, nonspec,\n",
    "                                                                            True)\n",
    "    savez('PSDD_GRASP65-GM130', r=r_grasp_gm, psdd=psdd_grasp_gm, area=area)"
   ]
  },
  {
   "cell_type": "code",
   "execution_count": 14,
   "metadata": {},
   "outputs": [
    {
     "data": {
      "text/plain": [
       "<matplotlib.legend.Legend at 0x14265ef0>"
      ]
     },
     "execution_count": 14,
     "metadata": {},
     "output_type": "execute_result"
    },
    {
     "data": {
      "image/png": "[encoded data removed]",
      "text/plain": [
       "<matplotlib.figure.Figure at 0x936a4400>"
      ]
     },
     "metadata": {},
     "output_type": "display_data"
    }
   ],
   "source": [
    "figure()\n",
    "plot(r_grasp_gm, pdd_grasp_gm, label='point-point')\n",
    "plot(r_grasp_gm, psdd_grasp_gm, label='point-set')\n",
    "legend(loc='best')"
   ]
  },
  {
   "cell_type": "code",
   "execution_count": 15,
   "metadata": {},
   "outputs": [
    {
     "data": {
      "image/png": "[encoded data removed]",
      "text/plain": [
       "<matplotlib.figure.Figure at 0x14242c18>"
      ]
     },
     "metadata": {},
     "output_type": "display_data"
    }
   ],
   "source": [
    "figure()\n",
    "plot(r_grasp_gm, pdd_grasp_gm)\n",
    "plot(r_grasp_gm, psdd_grasp_gm)\n",
    "xlim((0,2))\n",
    "ylim((0,22))\n",
    "savefig('both_grasp_gm.svg', dpi=300)"
   ]
  }
 ],
 "metadata": {
  "kernelspec": {
   "display_name": "Python 3",
   "language": "python",
   "name": "python3"
  },
  "language_info": {
   "codemirror_mode": {
    "name": "ipython",
    "version": 3
   },
   "file_extension": ".py",
   "mimetype": "text/x-python",
   "name": "python",
   "nbconvert_exporter": "python",
   "pygments_lexer": "ipython3",
   "version": "3.7.4"
  }
 },
 "nbformat": 4,
 "nbformat_minor": 1
}
