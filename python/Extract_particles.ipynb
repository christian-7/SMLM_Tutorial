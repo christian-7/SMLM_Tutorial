{
 "cells": [
  {
   "cell_type": "markdown",
   "metadata": {},
   "source": [
    "# Outline of steps\n",
    "1. Search the parent directory for all localization files and a build a list of such files\n",
    "2. Define the drift correction processor\n",
    "3. Open a file from the list\n",
    "4. Perform the drift correction on the file\n",
    "  * If the correction was not good, go back to step 2\n",
    "4. Save the results\n",
    "5. Repeat from step 1"
   ]
  },
  {
   "cell_type": "markdown",
   "metadata": {},
   "source": [
    "### Import the software libraries"
   ]
  },
  {
   "cell_type": "code",
   "execution_count": 1,
   "metadata": {},
   "outputs": [],
   "source": [
    "%matplotlib inline\n",
    "\n",
    "#%pylab\n",
    "\n",
    "import matplotlib\n",
    "import matplotlib.pyplot as plt\n",
    "import matplotlib.colors as mcolors\n",
    "from matplotlib.widgets  import RectangleSelector\n",
    "\n",
    "import numpy as np\n",
    "import pandas as pd\n",
    "import h5py\n",
    "#import napari\n",
    "#import pims\n",
    "\n",
    "from pathlib import Path\n",
    "import pprint\n",
    "pp = pprint.PrettyPrinter(indent = 1)\n",
    "import glob\n",
    "\n",
    "from sklearn.cluster import DBSCAN\n",
    "from sklearn import metrics\n",
    "from sklearn.datasets.samples_generator import make_blobs\n",
    "from sklearn.preprocessing import StandardScaler\n",
    "import skimage.io as io\n",
    "\n",
    "from processorROI import selectROI\n"
   ]
  },
  {
   "cell_type": "code",
   "execution_count": 69,
   "metadata": {},
   "outputs": [
    {
     "name": "stdout",
     "output_type": "stream",
     "text": [
      "  3 localization files found\n",
      "\n",
      "['/Volumes/Transcend/Inflammasome/2019-11-08_CS_Inflammasome_3D/locResults/Sample3_NB_LPS_10umNig_3D_1_1_locs.csv',\n",
      " '/Volumes/Transcend/Inflammasome/2019-11-08_CS_Inflammasome_3D/locResults/Sample3_NB_LPS_10umNig_3D_2_1_locs.csv',\n",
      " '/Volumes/Transcend/Inflammasome/2019-11-08_CS_Inflammasome_3D/locResults/Sample3_NB_LPS_10umNig_3D_3_1_locs.csv']\n",
      "\n",
      "  3 localization files found\n",
      "\n",
      "['/Volumes/Transcend/Inflammasome/2019-11-08_CS_Inflammasome_3D/Sample3_NB_LPS_10umNig_3D_WF1/Sample3_NB_LPS_10umNig_3D_WF1_MMStack_Pos0.ome.tif',\n",
      " '/Volumes/Transcend/Inflammasome/2019-11-08_CS_Inflammasome_3D/Sample3_NB_LPS_10umNig_3D_WF2/Sample3_NB_LPS_10umNig_3D_WF2_MMStack_Pos0.ome.tif',\n",
      " '/Volumes/Transcend/Inflammasome/2019-11-08_CS_Inflammasome_3D/Sample3_NB_LPS_10umNig_3D_WF3/Sample3_NB_LPS_10umNig_3D_WF3_MMStack_Pos0.ome.tif']\n"
     ]
    }
   ],
   "source": [
    "# Scan Directory\n",
    "\n",
    "parentDirectory   = Path('/Volumes/Transcend/Inflammasome/2019-11-08_CS_Inflammasome_3D')\n",
    "localizationFiles = glob.glob(str(parentDirectory)+'/**/*.csv',recursive=True)\n",
    "WFimageFiles = glob.glob(str(parentDirectory)+'/**/*.ome.tif',recursive=True);\n",
    "\n",
    "\n",
    "# How many files are there? \n",
    "\n",
    "print(\"%3.0f localization files found\" % len(locResultFiles))\n",
    "print(\"\")\n",
    "pp.pprint(localizationFiles)\n",
    "print(\"\")\n",
    "print(\"%3.0f localization files found\" % len(WFimages))\n",
    "print(\"\")\n",
    "pp.pprint(WFimageFiles)"
   ]
  },
  {
   "cell_type": "markdown",
   "metadata": {},
   "source": [
    "### Load localization file and WF image"
   ]
  },
  {
   "cell_type": "code",
   "execution_count": 100,
   "metadata": {
    "scrolled": true
   },
   "outputs": [
    {
     "name": "stdout",
     "output_type": "stream",
     "text": [
      "(5358, 16)\n",
      "(513, 513)\n"
     ]
    },
    {
     "data": {
      "text/html": [
       "<div>\n",
       "<style scoped>\n",
       "    .dataframe tbody tr th:only-of-type {\n",
       "        vertical-align: middle;\n",
       "    }\n",
       "\n",
       "    .dataframe tbody tr th {\n",
       "        vertical-align: top;\n",
       "    }\n",
       "\n",
       "    .dataframe thead th {\n",
       "        text-align: right;\n",
       "    }\n",
       "</style>\n",
       "<table border=\"1\" class=\"dataframe\">\n",
       "  <thead>\n",
       "    <tr style=\"text-align: right;\">\n",
       "      <th></th>\n",
       "      <th>frame</th>\n",
       "      <th>x_pix</th>\n",
       "      <th>y_pix</th>\n",
       "      <th>z_nm</th>\n",
       "      <th>photons</th>\n",
       "      <th>background</th>\n",
       "      <th>crlb_x</th>\n",
       "      <th>crlb_y</th>\n",
       "      <th>crlb_z</th>\n",
       "      <th>crlb_photons</th>\n",
       "      <th>crlb_background</th>\n",
       "      <th>logLikelyhood</th>\n",
       "      <th>x_nm</th>\n",
       "      <th>y_nm</th>\n",
       "      <th>crlb_xnm</th>\n",
       "      <th>crlb_ynm</th>\n",
       "    </tr>\n",
       "  </thead>\n",
       "  <tbody>\n",
       "    <tr>\n",
       "      <th>count</th>\n",
       "      <td>5358.000000</td>\n",
       "      <td>5358.000000</td>\n",
       "      <td>5358.000000</td>\n",
       "      <td>5358.000000</td>\n",
       "      <td>5358.000000</td>\n",
       "      <td>5358.000000</td>\n",
       "      <td>5358.000000</td>\n",
       "      <td>5358.000000</td>\n",
       "      <td>5358.000000</td>\n",
       "      <td>5358.000000</td>\n",
       "      <td>5358.000000</td>\n",
       "      <td>5358.000000</td>\n",
       "      <td>5358.000000</td>\n",
       "      <td>5358.000000</td>\n",
       "      <td>5358.000000</td>\n",
       "      <td>5358.000000</td>\n",
       "    </tr>\n",
       "    <tr>\n",
       "      <th>mean</th>\n",
       "      <td>12581.068869</td>\n",
       "      <td>201.431471</td>\n",
       "      <td>186.306514</td>\n",
       "      <td>-129.332124</td>\n",
       "      <td>2550.339231</td>\n",
       "      <td>68.670810</td>\n",
       "      <td>0.139973</td>\n",
       "      <td>0.149403</td>\n",
       "      <td>19.051968</td>\n",
       "      <td>172.484773</td>\n",
       "      <td>0.508883</td>\n",
       "      <td>-310.764541</td>\n",
       "      <td>21351.743412</td>\n",
       "      <td>19748.494867</td>\n",
       "      <td>14.837105</td>\n",
       "      <td>15.836675</td>\n",
       "    </tr>\n",
       "    <tr>\n",
       "      <th>std</th>\n",
       "      <td>10438.619561</td>\n",
       "      <td>154.295833</td>\n",
       "      <td>118.567184</td>\n",
       "      <td>309.147730</td>\n",
       "      <td>2270.126967</td>\n",
       "      <td>8.822429</td>\n",
       "      <td>0.057240</td>\n",
       "      <td>0.061146</td>\n",
       "      <td>25.643319</td>\n",
       "      <td>135.677143</td>\n",
       "      <td>0.122387</td>\n",
       "      <td>158.849994</td>\n",
       "      <td>16355.363976</td>\n",
       "      <td>12568.122150</td>\n",
       "      <td>6.067392</td>\n",
       "      <td>6.481426</td>\n",
       "    </tr>\n",
       "    <tr>\n",
       "      <th>min</th>\n",
       "      <td>1.000000</td>\n",
       "      <td>10.445000</td>\n",
       "      <td>5.750000</td>\n",
       "      <td>-1510.000000</td>\n",
       "      <td>520.980000</td>\n",
       "      <td>53.699000</td>\n",
       "      <td>0.025566</td>\n",
       "      <td>0.038230</td>\n",
       "      <td>2.341900</td>\n",
       "      <td>82.583000</td>\n",
       "      <td>0.409050</td>\n",
       "      <td>-6742.900000</td>\n",
       "      <td>1107.200000</td>\n",
       "      <td>609.500000</td>\n",
       "      <td>2.710000</td>\n",
       "      <td>4.052400</td>\n",
       "    </tr>\n",
       "    <tr>\n",
       "      <th>25%</th>\n",
       "      <td>2082.000000</td>\n",
       "      <td>62.288250</td>\n",
       "      <td>76.726250</td>\n",
       "      <td>-255.872500</td>\n",
       "      <td>1340.825000</td>\n",
       "      <td>63.217750</td>\n",
       "      <td>0.096908</td>\n",
       "      <td>0.105482</td>\n",
       "      <td>11.218500</td>\n",
       "      <td>93.931500</td>\n",
       "      <td>0.435422</td>\n",
       "      <td>-311.777500</td>\n",
       "      <td>6602.625000</td>\n",
       "      <td>8132.950000</td>\n",
       "      <td>10.272500</td>\n",
       "      <td>11.181250</td>\n",
       "    </tr>\n",
       "    <tr>\n",
       "      <th>50%</th>\n",
       "      <td>12107.500000</td>\n",
       "      <td>148.930000</td>\n",
       "      <td>205.360000</td>\n",
       "      <td>-90.683000</td>\n",
       "      <td>1738.800000</td>\n",
       "      <td>66.483500</td>\n",
       "      <td>0.139290</td>\n",
       "      <td>0.140190</td>\n",
       "      <td>15.110500</td>\n",
       "      <td>107.855000</td>\n",
       "      <td>0.452760</td>\n",
       "      <td>-293.760000</td>\n",
       "      <td>15787.000000</td>\n",
       "      <td>21768.000000</td>\n",
       "      <td>14.764500</td>\n",
       "      <td>14.860000</td>\n",
       "    </tr>\n",
       "    <tr>\n",
       "      <th>75%</th>\n",
       "      <td>21048.500000</td>\n",
       "      <td>316.510000</td>\n",
       "      <td>243.477500</td>\n",
       "      <td>50.922750</td>\n",
       "      <td>2817.950000</td>\n",
       "      <td>71.159000</td>\n",
       "      <td>0.180570</td>\n",
       "      <td>0.181482</td>\n",
       "      <td>19.889000</td>\n",
       "      <td>152.010000</td>\n",
       "      <td>0.510657</td>\n",
       "      <td>-278.602500</td>\n",
       "      <td>33550.000000</td>\n",
       "      <td>25808.500000</td>\n",
       "      <td>19.140000</td>\n",
       "      <td>19.237000</td>\n",
       "    </tr>\n",
       "    <tr>\n",
       "      <th>max</th>\n",
       "      <td>34743.000000</td>\n",
       "      <td>503.620000</td>\n",
       "      <td>503.830000</td>\n",
       "      <td>1062.900000</td>\n",
       "      <td>33570.000000</td>\n",
       "      <td>164.820000</td>\n",
       "      <td>0.624460</td>\n",
       "      <td>1.132700</td>\n",
       "      <td>930.440000</td>\n",
       "      <td>922.320000</td>\n",
       "      <td>1.252600</td>\n",
       "      <td>-219.840000</td>\n",
       "      <td>53383.000000</td>\n",
       "      <td>53406.000000</td>\n",
       "      <td>66.193000</td>\n",
       "      <td>120.060000</td>\n",
       "    </tr>\n",
       "  </tbody>\n",
       "</table>\n",
       "</div>"
      ],
      "text/plain": [
       "              frame        x_pix        y_pix         z_nm       photons  \\\n",
       "count   5358.000000  5358.000000  5358.000000  5358.000000   5358.000000   \n",
       "mean   12581.068869   201.431471   186.306514  -129.332124   2550.339231   \n",
       "std    10438.619561   154.295833   118.567184   309.147730   2270.126967   \n",
       "min        1.000000    10.445000     5.750000 -1510.000000    520.980000   \n",
       "25%     2082.000000    62.288250    76.726250  -255.872500   1340.825000   \n",
       "50%    12107.500000   148.930000   205.360000   -90.683000   1738.800000   \n",
       "75%    21048.500000   316.510000   243.477500    50.922750   2817.950000   \n",
       "max    34743.000000   503.620000   503.830000  1062.900000  33570.000000   \n",
       "\n",
       "        background       crlb_x       crlb_y       crlb_z  crlb_photons  \\\n",
       "count  5358.000000  5358.000000  5358.000000  5358.000000   5358.000000   \n",
       "mean     68.670810     0.139973     0.149403    19.051968    172.484773   \n",
       "std       8.822429     0.057240     0.061146    25.643319    135.677143   \n",
       "min      53.699000     0.025566     0.038230     2.341900     82.583000   \n",
       "25%      63.217750     0.096908     0.105482    11.218500     93.931500   \n",
       "50%      66.483500     0.139290     0.140190    15.110500    107.855000   \n",
       "75%      71.159000     0.180570     0.181482    19.889000    152.010000   \n",
       "max     164.820000     0.624460     1.132700   930.440000    922.320000   \n",
       "\n",
       "       crlb_background  logLikelyhood          x_nm          y_nm  \\\n",
       "count      5358.000000    5358.000000   5358.000000   5358.000000   \n",
       "mean          0.508883    -310.764541  21351.743412  19748.494867   \n",
       "std           0.122387     158.849994  16355.363976  12568.122150   \n",
       "min           0.409050   -6742.900000   1107.200000    609.500000   \n",
       "25%           0.435422    -311.777500   6602.625000   8132.950000   \n",
       "50%           0.452760    -293.760000  15787.000000  21768.000000   \n",
       "75%           0.510657    -278.602500  33550.000000  25808.500000   \n",
       "max           1.252600    -219.840000  53383.000000  53406.000000   \n",
       "\n",
       "          crlb_xnm    crlb_ynm   \n",
       "count  5358.000000  5358.000000  \n",
       "mean     14.837105    15.836675  \n",
       "std       6.067392     6.481426  \n",
       "min       2.710000     4.052400  \n",
       "25%      10.272500    11.181250  \n",
       "50%      14.764500    14.860000  \n",
       "75%      19.140000    19.237000  \n",
       "max      66.193000   120.060000  "
      ]
     },
     "execution_count": 100,
     "metadata": {},
     "output_type": "execute_result"
    }
   ],
   "source": [
    "# Read the data table\n",
    "\n",
    "FOV_ID = 0;\n",
    "\n",
    "# pathToData = Path('/Users/christian/Documents/Arbeit/MatLab/SMLM_tutorial/python/test_data.csv')\n",
    "\n",
    "data = pd.read_csv(locResultFiles[FOV_ID]);\n",
    "image = io.imread(WFimages[FOV_ID]);\n",
    "\n",
    "print(data.shape)\n",
    "print(image.shape)\n",
    "data.describe()"
   ]
  },
  {
   "cell_type": "code",
   "execution_count": 101,
   "metadata": {},
   "outputs": [],
   "source": [
    "plt.figure(figsize=(5,5))\n",
    "plt.imshow(image);"
   ]
  },
  {
   "cell_type": "markdown",
   "metadata": {},
   "source": [
    "### Visualize data and show filtering parameters"
   ]
  },
  {
   "cell_type": "code",
   "execution_count": 138,
   "metadata": {
    "scrolled": false
   },
   "outputs": [
    {
     "name": "stdout",
     "output_type": "stream",
     "text": [
      "Warning: Cannot change to a different GUI toolkit: notebook. Using osx instead.\n"
     ]
    }
   ],
   "source": [
    "# Render locs and show scatter plot\n",
    "\n",
    "%matplotlib notebook\n",
    "\n",
    "plt.figure(figsize=(15,4))\n",
    "plt.subplot(1,3,1)\n",
    "plt.hexbin(data.x_nm,data.y_nm, gridsize=100,bins='log', cmap='inferno');\n",
    "#plt.hist2d(data.x_nm, data.y_nm, bins=50, range=None, density=True, weights=None, cmin=0, cmax=500)\n",
    "plt.show()\n",
    "plt.title('Rendered Image');\n",
    "plt.subplot(1,3,2)\n",
    "plt.scatter(data.x_nm,data.y_nm, marker ='.');\n",
    "plt.title('Scatter Plot');\n",
    "plt.subplot(1,3,3)\n",
    "plt.imshow(image);\n",
    "plt.title('WF image');"
   ]
  },
  {
   "cell_type": "code",
   "execution_count": 103,
   "metadata": {},
   "outputs": [
    {
     "data": {
      "text/plain": [
       "Text(0, 0.5, 'Frequency')"
      ]
     },
     "execution_count": 103,
     "metadata": {},
     "output_type": "execute_result"
    }
   ],
   "source": [
    "# Histogram of filtering params\n",
    "\n",
    "plt.figure(figsize=(10,4))\n",
    "plt.subplot(1,3,1)\n",
    "plt.hist(data.photons,bins=50,range=[0,10000],density=True, facecolor='g', alpha=0.75, rwidth=0.85);\n",
    "plt.show()\n",
    "plt.title('Photons'); plt.xlabel('Photons'); plt.ylabel('Frequency')\n",
    "\n",
    "plt.subplot(1,3,2)\n",
    "plt.hist(data.logLikelyhood,bins=50,range=[-1000,100],density=True, facecolor='g', alpha=0.75, rwidth=0.85);\n",
    "plt.show()\n",
    "plt.title('LL'); plt.xlabel('LL'); plt.ylabel('Frequency')\n",
    "\n",
    "plt.subplot(1,3,3)\n",
    "plt.hist(data.background,bins=50,range=[0,100],density=True, facecolor='g', alpha=0.75, rwidth=0.85);\n",
    "plt.show()\n",
    "plt.title('Bkg'); plt.xlabel('Background'); plt.ylabel('Frequency')\n"
   ]
  },
  {
   "cell_type": "code",
   "execution_count": 105,
   "metadata": {},
   "outputs": [
    {
     "name": "stdout",
     "output_type": "stream",
     "text": [
      "4252 points (79.36 %) are left after filtering\n"
     ]
    }
   ],
   "source": [
    "# Filter localizations\n",
    "\n",
    "minFrame = 1000;\n",
    "minPhotons = 500;\n",
    "minlogLikelyhood = -500\n",
    "\n",
    "filteredLocs = data[(data.frame > minFrame) & (data.photons > minPhotons) & (data.logLikelyhood > minlogLikelyhood)]\n",
    "\n",
    "print(\"%3.0f points (%3.2f %%) are left after filtering\" % (filteredLocs.shape[0],(filteredLocs.shape[0]/data.shape[0])*100))\n"
   ]
  },
  {
   "cell_type": "markdown",
   "metadata": {},
   "source": [
    "### Select ROI "
   ]
  },
  {
   "cell_type": "code",
   "execution_count": 106,
   "metadata": {},
   "outputs": [
    {
     "name": "stdout",
     "output_type": "stream",
     "text": [
      "Using matplotlib backend: MacOSX\n",
      "(31813.77, 106.40) --> (35162.98, 5181.12)\n"
     ]
    }
   ],
   "source": [
    "# Select ROI using function selectROI\n",
    "\n",
    "%matplotlib \n",
    "\n",
    "selectedROI = selectROI(data)\n"
   ]
  },
  {
   "cell_type": "code",
   "execution_count": 107,
   "metadata": {},
   "outputs": [
    {
     "name": "stdout",
     "output_type": "stream",
     "text": [
      "([31813.767595756217, 106.39869389256637], [35162.978803171485, 5181.1174668874155])\n"
     ]
    }
   ],
   "source": [
    "# Extract Particle\n",
    "\n",
    "print(selectedROI)\n",
    "\n",
    "fig, current_ax = plt.subplots() \n",
    "\n",
    "locsROI = data[(data.x_nm > selectedROI[0][0]) & (data.x_nm < selectedROI[1][0]) & (data.y_nm > selectedROI[0][1]) & (data.y_nm < selectedROI[1][1])]\n",
    "\n",
    "plt.hexbin(locsROI.x_nm,locsROI.y_nm, gridsize=150,bins='log', cmap='inferno');"
   ]
  },
  {
   "cell_type": "markdown",
   "metadata": {},
   "source": [
    "### Add particle to list of particles"
   ]
  },
  {
   "cell_type": "code",
   "execution_count": 112,
   "metadata": {},
   "outputs": [
    {
     "data": {
      "text/plain": [
       "1"
      ]
     },
     "execution_count": 112,
     "metadata": {},
     "output_type": "execute_result"
    }
   ],
   "source": [
    "# First time \n",
    "particles = [locsROI];\n",
    "len(particles)"
   ]
  },
  {
   "cell_type": "code",
   "execution_count": 119,
   "metadata": {},
   "outputs": [
    {
     "data": {
      "text/plain": [
       "3"
      ]
     },
     "execution_count": 119,
     "metadata": {},
     "output_type": "execute_result"
    }
   ],
   "source": [
    "# Append more particles\n",
    "particles.append(locsROI)\n",
    "len(particles)"
   ]
  },
  {
   "cell_type": "code",
   "execution_count": 118,
   "metadata": {},
   "outputs": [
    {
     "data": {
      "text/plain": [
       "(1051, 16)"
      ]
     },
     "execution_count": 118,
     "metadata": {},
     "output_type": "execute_result"
    }
   ],
   "source": [
    "particles[0].shape"
   ]
  },
  {
   "cell_type": "markdown",
   "metadata": {},
   "source": [
    "### Save as HDF5"
   ]
  },
  {
   "cell_type": "code",
   "execution_count": 120,
   "metadata": {},
   "outputs": [],
   "source": [
    "# Create HDF file\n",
    "\n",
    "output_name = 'Particles.h5'\n",
    "\n",
    "hf = h5py.File(output_name, 'w')"
   ]
  },
  {
   "cell_type": "code",
   "execution_count": 122,
   "metadata": {},
   "outputs": [
    {
     "data": {
      "text/plain": [
       "<HDF5 dataset \"Particle 2\": shape (1051, 16), type \"<f8\">"
      ]
     },
     "execution_count": 122,
     "metadata": {},
     "output_type": "execute_result"
    }
   ],
   "source": [
    "name_of_dataset = 'Particle 2'\n",
    "hf.create_dataset(name_of_dataset, data=particles[0])"
   ]
  },
  {
   "cell_type": "code",
   "execution_count": 116,
   "metadata": {},
   "outputs": [],
   "source": [
    "# When done, close the file\n",
    "hf.close()"
   ]
  },
  {
   "cell_type": "code",
   "execution_count": null,
   "metadata": {},
   "outputs": [],
   "source": [
    "# Write csv file\n",
    "\n",
    "locsToCSV = locsROI[['frame','x_nm','y_nm','z_nm','photons','logLikelyhood']]\n",
    "\n",
    "H1 = ['frame',' x [nm] ','y [nm]','z [nm]','photons','logLikelyhood']\n",
    "\n",
    "locsToCSV.to_csv (r'/Volumes/Transcend/Inflammasome/2019-11-08_CS_Inflammasome_3D/export_dataframe.csv', index = False, header=H1)"
   ]
  }
 ],
 "metadata": {
  "kernelspec": {
   "display_name": "Python 3",
   "language": "python",
   "name": "python3"
  },
  "language_info": {
   "codemirror_mode": {
    "name": "ipython",
    "version": 3
   },
   "file_extension": ".py",
   "mimetype": "text/x-python",
   "name": "python",
   "nbconvert_exporter": "python",
   "pygments_lexer": "ipython3",
   "version": "3.7.4"
  }
 },
 "nbformat": 4,
 "nbformat_minor": 2
}
